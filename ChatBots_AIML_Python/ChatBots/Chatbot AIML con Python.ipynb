{
 "cells": [
  {
   "cell_type": "markdown",
   "metadata": {},
   "source": [
    "# Ejecución de chatbot AIML desde Jupyter Notebook"
   ]
  },
  {
   "cell_type": "markdown",
   "metadata": {},
   "source": [
    "Se instala programy, que es una implementación completa del estándar AIML"
   ]
  },
  {
   "cell_type": "code",
   "execution_count": null,
   "metadata": {
    "scrolled": true
   },
   "outputs": [],
   "source": [
    "%pip install programy"
   ]
  },
  {
   "cell_type": "markdown",
   "metadata": {},
   "source": [
    "Utilizaremos EmbeddedDataFileBot, un bot que permite cargar la base de conocimiento desde archivos AIML externos"
   ]
  },
  {
   "cell_type": "code",
   "execution_count": 1,
   "metadata": {},
   "outputs": [],
   "source": [
    "from programy.clients.embed.datafile import EmbeddedDataFileBot"
   ]
  },
  {
   "cell_type": "markdown",
   "metadata": {},
   "source": [
    "En el argumento 'files' del constructor se indica el nombre del directorio donde están los archivos con extensión .aiml que va a cargar"
   ]
  },
  {
   "cell_type": "code",
   "execution_count": 2,
   "metadata": {},
   "outputs": [],
   "source": [
    "chatbot = EmbeddedDataFileBot(files={'aiml':['archivos_aiml']}, defaults=True)"
   ]
  },
  {
   "cell_type": "markdown",
   "metadata": {},
   "source": [
    "Generamos un bucle infinito que va imprimiendo las respuestas que devuelve nuestro bot a los mensajes que el usuario escriba por la entrada estándar"
   ]
  },
  {
   "cell_type": "code",
   "execution_count": 3,
   "metadata": {
    "scrolled": true
   },
   "outputs": [],
   "source": [
    "try:\n",
    "   \n",
    "    while True:\n",
    "        print (chatbot.ask_question(input('>')))\n",
    "except:\n",
    "    pass"
   ]
  },
  {
   "cell_type": "code",
   "execution_count": null,
   "metadata": {},
   "outputs": [
    {
     "name": "stdout",
     "output_type": "stream",
     "text": [
      "¿Quieres que te recomiende planes para tus vacaciones?\n",
      "> si\n",
      "¿Cuál sera tu proximo destino?\n",
      "> voy a viajar a roma\n",
      "Estupendo!. Que te gustaría hacer mientras estás en Roma?\n",
      "> recomiendame algo cultural\n",
      "Muy bien, ¿te gusta la historia o la pintura?\n",
      "> historia\n",
      "Genial! Pues aqui un plan si te gusta la historia Tour coliseo y arena de\n",
      "gladiadores.\n",
      "> recomiendame algo de gastronomia\n",
      "Muy bien, aqui un plan gastronómico para conocer la ciudad Tour gastronómico por\n",
      "el barrio del Trastevere.\n",
      "> recomiendame algo original\n",
      "Muy bien. Aqui tienes una excursión de varios dias con paseo en barco. Excursión\n",
      "a Ponza y paseo en barco.\n"
     ]
    }
   ],
   "source": [
    "import requests\n",
    "\n",
    "# This function will pass your text to the machine learning model\n",
    "# and return the top result with the highest confidence\n",
    "def classify(text):\n",
    "    key = \"da588100-74a2-11ec-b559-81cf22e009279a5ab59c-4e94-4938-9556-5dee0c8e707c\"\n",
    "    url = \"https://machinelearningforkids.co.uk/api/scratch/\"+ key + \"/classify\"\n",
    "\n",
    "    response = requests.get(url, params={ \"data\" : text })\n",
    "\n",
    "    if response.ok:\n",
    "        responseData = response.json()\n",
    "        topMatch = responseData[0]\n",
    "        return topMatch\n",
    "    else:\n",
    "        response.raise_for_status()\n",
    "\n",
    "\n",
    "\n",
    "        \n",
    "        \n",
    "        \n",
    "def answer_question():\n",
    "    question = input(\">>\")\n",
    "    answer = classify(question)\n",
    "    \n",
    "    answerclass = answer[\"class_name\"]\n",
    "    confidence = answer[\"confidence\"]\n",
    "\n",
    "    if confidence < 70:\n",
    "        print(\"No entiendo la pregunta. Pregúntame otra cosa!\")\n",
    "    if answerclass == \"destino\":\n",
    "        print (\"Voy a viajar a Roma\")\n",
    "    elif answerclass == \"Gastronomia\":\n",
    "        pattern = answerclass\n",
    "        print (\"Muy bien. Aqui tienes planes de gastromia\")\n",
    "    elif answerclass == \"Arte\":\n",
    "        pattern = answerclass\n",
    "        print (\"Muy bien. Aqui tienes planes de arte y cultura\")\n",
    "    elif answerclass == \"Otros\":\n",
    "        print (\"Muy bien. Aqui tienes planes que se salen de lo comun\")\n",
    "        pattern = answerclass \n",
    " \n",
    "\n",
    "    \n",
    "try:\n",
    "    print (\"¿Quieres que te recomiende planes para tus vacaciones?\")    \n",
    "    while True:\n",
    "        print (chatbot.ask_question(input('> '))) \n",
    "        \n",
    "            \n",
    "except:\n",
    "    pass"
   ]
  },
  {
   "cell_type": "code",
   "execution_count": null,
   "metadata": {},
   "outputs": [],
   "source": []
  },
  {
   "cell_type": "code",
   "execution_count": null,
   "metadata": {},
   "outputs": [],
   "source": []
  }
 ],
 "metadata": {
  "kernelspec": {
   "display_name": "Python 3",
   "language": "python",
   "name": "python3"
  },
  "language_info": {
   "codemirror_mode": {
    "name": "ipython",
    "version": 3
   },
   "file_extension": ".py",
   "mimetype": "text/x-python",
   "name": "python",
   "nbconvert_exporter": "python",
   "pygments_lexer": "ipython3",
   "version": "3.8.10"
  }
 },
 "nbformat": 4,
 "nbformat_minor": 5
}
