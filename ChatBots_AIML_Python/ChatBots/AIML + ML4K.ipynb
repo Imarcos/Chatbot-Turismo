{
 "cells": [
  {
   "cell_type": "markdown",
   "id": "66daf3f8",
   "metadata": {},
   "source": [
    "# Ejecución de chatbot AIML desde Jupyter Notebook"
   ]
  },
  {
   "cell_type": "markdown",
   "id": "69c9e549",
   "metadata": {},
   "source": [
    "Se instala programy, que es una implementación completa del estándar AIML"
   ]
  },
  {
   "cell_type": "code",
   "execution_count": 2,
   "id": "b0738737",
   "metadata": {
    "scrolled": true
   },
   "outputs": [
    {
     "name": "stdout",
     "output_type": "stream",
     "text": [
      "Requirement already satisfied: programy in /home/usuario/.local/lib/python3.8/site-packages (5.0.1)\n",
      "Requirement already satisfied: discord.py==1.2.3 in /home/usuario/.local/lib/python3.8/site-packages (from programy) (1.2.3)\n",
      "Requirement already satisfied: python-dateutil==2.8.1 in /home/usuario/.local/lib/python3.8/site-packages (from programy) (2.8.1)\n",
      "Requirement already satisfied: botbuilder-core==4.5.0b4 in /home/usuario/.local/lib/python3.8/site-packages (from programy) (4.5.0b4)\n",
      "Requirement already satisfied: Flask-SocketIO==4.2.1 in /home/usuario/.local/lib/python3.8/site-packages (from programy) (4.2.1)\n",
      "Requirement already satisfied: wget==3.2 in /home/usuario/.local/lib/python3.8/site-packages (from programy) (3.2)\n",
      "Requirement already satisfied: redis==3.3.11 in /home/usuario/.local/lib/python3.8/site-packages (from programy) (3.3.11)\n",
      "Requirement already satisfied: textblob==0.15.3 in /home/usuario/.local/lib/python3.8/site-packages (from programy) (0.15.3)\n",
      "Requirement already satisfied: twilio==6.35.1 in /home/usuario/.local/lib/python3.8/site-packages (from programy) (6.35.1)\n",
      "Requirement already satisfied: PyMySQL==0.9.3 in /home/usuario/.local/lib/python3.8/site-packages (from programy) (0.9.3)\n",
      "Requirement already satisfied: tweepy==3.8.0 in /home/usuario/.local/lib/python3.8/site-packages (from programy) (3.8.0)\n",
      "Requirement already satisfied: autocorrect==0.4.4 in /home/usuario/.local/lib/python3.8/site-packages (from programy) (0.4.4)\n",
      "Requirement already satisfied: python-telegram-bot==12.0.0 in /home/usuario/.local/lib/python3.8/site-packages (from programy) (12.0.0)\n",
      "Requirement already satisfied: pymongo==3.10.0 in /home/usuario/.local/lib/python3.8/site-packages (from programy) (3.10.0)\n",
      "Requirement already satisfied: beautifulsoup4==4.8 in /home/usuario/.local/lib/python3.8/site-packages (from programy) (4.8.0)\n",
      "Requirement already satisfied: SQLAlchemy==1.3.12 in /home/usuario/.local/lib/python3.8/site-packages (from programy) (1.3.12)\n",
      "Requirement already satisfied: botbuilder-schema>=4.5.0b4 in /home/usuario/.local/lib/python3.8/site-packages (from programy) (4.14.1)\n",
      "Requirement already satisfied: kik==1.5.0 in /home/usuario/.local/lib/python3.8/site-packages (from programy) (1.5.0)\n",
      "Requirement already satisfied: MetOffer==1.3.2 in /home/usuario/.local/lib/python3.8/site-packages (from programy) (1.3.2)\n",
      "Requirement already satisfied: wikipedia==1.4.0 in /home/usuario/.local/lib/python3.8/site-packages (from programy) (1.4.0)\n",
      "Requirement already satisfied: APScheduler==3.6.3 in /home/usuario/.local/lib/python3.8/site-packages (from programy) (3.6.3)\n",
      "Requirement already satisfied: line-bot-sdk==1.15.0 in /home/usuario/.local/lib/python3.8/site-packages (from programy) (1.15.0)\n",
      "Requirement already satisfied: sleekxmpp==1.3.3 in /home/usuario/.local/lib/python3.8/site-packages (from programy) (1.3.3)\n",
      "Requirement already satisfied: requests==2.22.0 in /usr/lib/python3/dist-packages (from programy) (2.22.0)\n",
      "Requirement already satisfied: lxml==4.6.2 in /home/usuario/.local/lib/python3.8/site-packages (from programy) (4.6.2)\n",
      "Requirement already satisfied: PyYAML==5.3b1 in /home/usuario/.local/lib/python3.8/site-packages (from programy) (5.3b1)\n",
      "Requirement already satisfied: emoji==0.5.4 in /home/usuario/.local/lib/python3.8/site-packages (from programy) (0.5.4)\n",
      "Requirement already satisfied: slackclient==1.3.1 in /home/usuario/.local/lib/python3.8/site-packages (from programy) (1.3.1)\n",
      "Requirement already satisfied: viberbot==1.0.11 in /home/usuario/.local/lib/python3.8/site-packages (from programy) (1.0.11)\n",
      "Requirement already satisfied: pymessenger==0.0.7.0 in /home/usuario/.local/lib/python3.8/site-packages (from programy) (0.0.7.0)\n",
      "Requirement already satisfied: Flask==1.1.1 in /home/usuario/.local/lib/python3.8/site-packages (from programy) (1.1.1)\n",
      "Requirement already satisfied: websockets<7.0,>=6.0 in /home/usuario/.local/lib/python3.8/site-packages (from discord.py==1.2.3->programy) (6.0)\n",
      "Requirement already satisfied: aiohttp<3.6.0,>=3.3.0 in /home/usuario/.local/lib/python3.8/site-packages (from discord.py==1.2.3->programy) (3.5.4)\n",
      "Requirement already satisfied: six>=1.5 in /usr/lib/python3/dist-packages (from python-dateutil==2.8.1->programy) (1.14.0)\n",
      "Requirement already satisfied: botframework-connector>=4.5.0b4 in /home/usuario/.local/lib/python3.8/site-packages (from botbuilder-core==4.5.0b4->programy) (4.14.1)\n",
      "Requirement already satisfied: python-socketio>=4.3.0 in /home/usuario/.local/lib/python3.8/site-packages (from Flask-SocketIO==4.2.1->programy) (5.5.1)\n",
      "Requirement already satisfied: nltk>=3.1 in /home/usuario/.local/lib/python3.8/site-packages (from textblob==0.15.3->programy) (3.6.7)\n",
      "Requirement already satisfied: PyJWT>=1.4.2 in /usr/lib/python3/dist-packages (from twilio==6.35.1->programy) (1.7.1)\n",
      "Requirement already satisfied: pytz in /usr/lib/python3/dist-packages (from twilio==6.35.1->programy) (2019.3)\n",
      "Requirement already satisfied: PySocks>=1.5.7 in /home/usuario/.local/lib/python3.8/site-packages (from tweepy==3.8.0->programy) (1.7.1)\n",
      "Requirement already satisfied: requests-oauthlib>=0.7.0 in /home/usuario/.local/lib/python3.8/site-packages (from tweepy==3.8.0->programy) (1.3.0)\n",
      "Requirement already satisfied: cryptography in /usr/lib/python3/dist-packages (from python-telegram-bot==12.0.0->programy) (2.8)\n",
      "Requirement already satisfied: tornado>=5.1 in /home/usuario/.local/lib/python3.8/site-packages (from python-telegram-bot==12.0.0->programy) (6.1)\n",
      "Requirement already satisfied: future>=0.16.0 in /usr/lib/python3/dist-packages (from python-telegram-bot==12.0.0->programy) (0.18.2)\n",
      "Requirement already satisfied: certifi in /usr/lib/python3/dist-packages (from python-telegram-bot==12.0.0->programy) (2019.11.28)\n",
      "Requirement already satisfied: soupsieve>=1.2 in /home/usuario/.local/lib/python3.8/site-packages (from beautifulsoup4==4.8->programy) (2.3.1)\n",
      "Requirement already satisfied: msrest==0.6.10 in /home/usuario/.local/lib/python3.8/site-packages (from botbuilder-schema>=4.5.0b4->programy) (0.6.10)\n",
      "Requirement already satisfied: tzlocal>=1.2 in /home/usuario/.local/lib/python3.8/site-packages (from APScheduler==3.6.3->programy) (4.1)\n",
      "Requirement already satisfied: setuptools>=0.7 in /usr/lib/python3/dist-packages (from APScheduler==3.6.3->programy) (45.2.0)\n",
      "Requirement already satisfied: websocket-client<0.55.0,>=0.35 in /home/usuario/.local/lib/python3.8/site-packages (from slackclient==1.3.1->programy) (0.54.0)\n",
      "Requirement already satisfied: requests-toolbelt in /home/usuario/.local/lib/python3.8/site-packages (from pymessenger==0.0.7.0->programy) (0.9.1)\n",
      "Requirement already satisfied: click>=5.1 in /home/usuario/.local/lib/python3.8/site-packages (from Flask==1.1.1->programy) (8.0.3)\n",
      "Requirement already satisfied: Jinja2>=2.10.1 in /home/usuario/.local/lib/python3.8/site-packages (from Flask==1.1.1->programy) (3.0.3)\n",
      "Requirement already satisfied: itsdangerous>=0.24 in /home/usuario/.local/lib/python3.8/site-packages (from Flask==1.1.1->programy) (2.0.1)\n",
      "Requirement already satisfied: Werkzeug>=0.15 in /home/usuario/.local/lib/python3.8/site-packages (from Flask==1.1.1->programy) (2.0.2)\n",
      "Requirement already satisfied: attrs>=17.3.0 in /home/usuario/.local/lib/python3.8/site-packages (from aiohttp<3.6.0,>=3.3.0->discord.py==1.2.3->programy) (21.4.0)\n",
      "Requirement already satisfied: multidict<5.0,>=4.0 in /home/usuario/.local/lib/python3.8/site-packages (from aiohttp<3.6.0,>=3.3.0->discord.py==1.2.3->programy) (4.7.6)\n",
      "Requirement already satisfied: chardet<4.0,>=2.0 in /usr/lib/python3/dist-packages (from aiohttp<3.6.0,>=3.3.0->discord.py==1.2.3->programy) (3.0.4)\n",
      "Requirement already satisfied: yarl<2.0,>=1.0 in /home/usuario/.local/lib/python3.8/site-packages (from aiohttp<3.6.0,>=3.3.0->discord.py==1.2.3->programy) (1.7.2)\n",
      "Requirement already satisfied: async-timeout<4.0,>=3.0 in /home/usuario/.local/lib/python3.8/site-packages (from aiohttp<3.6.0,>=3.3.0->discord.py==1.2.3->programy) (3.0.1)\n",
      "Requirement already satisfied: msal==1.6.0 in /home/usuario/.local/lib/python3.8/site-packages (from botframework-connector>=4.5.0b4->botbuilder-core==4.5.0b4->programy) (1.6.0)\n",
      "Requirement already satisfied: bidict>=0.21.0 in /home/usuario/.local/lib/python3.8/site-packages (from python-socketio>=4.3.0->Flask-SocketIO==4.2.1->programy) (0.21.4)\n",
      "Requirement already satisfied: python-engineio>=4.3.0 in /home/usuario/.local/lib/python3.8/site-packages (from python-socketio>=4.3.0->Flask-SocketIO==4.2.1->programy) (4.3.1)\n",
      "Requirement already satisfied: regex>=2021.8.3 in /home/usuario/.local/lib/python3.8/site-packages (from nltk>=3.1->textblob==0.15.3->programy) (2021.11.10)\n",
      "Requirement already satisfied: tqdm in /home/usuario/.local/lib/python3.8/site-packages (from nltk>=3.1->textblob==0.15.3->programy) (4.62.3)\n",
      "Requirement already satisfied: joblib in /home/usuario/.local/lib/python3.8/site-packages (from nltk>=3.1->textblob==0.15.3->programy) (1.1.0)\n",
      "Requirement already satisfied: oauthlib>=3.0.0 in /usr/lib/python3/dist-packages (from requests-oauthlib>=0.7.0->tweepy==3.8.0->programy) (3.1.0)\n",
      "Requirement already satisfied: isodate>=0.6.0 in /home/usuario/.local/lib/python3.8/site-packages (from msrest==0.6.10->botbuilder-schema>=4.5.0b4->programy) (0.6.1)\n",
      "Requirement already satisfied: pytz-deprecation-shim in /home/usuario/.local/lib/python3.8/site-packages (from tzlocal>=1.2->APScheduler==3.6.3->programy) (0.1.0.post0)\n",
      "Requirement already satisfied: backports.zoneinfo; python_version < \"3.9\" in /home/usuario/.local/lib/python3.8/site-packages (from tzlocal>=1.2->APScheduler==3.6.3->programy) (0.2.1)\n",
      "Requirement already satisfied: MarkupSafe>=2.0 in /home/usuario/.local/lib/python3.8/site-packages (from Jinja2>=2.10.1->Flask==1.1.1->programy) (2.0.1)\n",
      "Requirement already satisfied: idna>=2.0 in /usr/lib/python3/dist-packages (from yarl<2.0,>=1.0->aiohttp<3.6.0,>=3.3.0->discord.py==1.2.3->programy) (2.8)\n",
      "Requirement already satisfied: tzdata; python_version >= \"3.6\" in /home/usuario/.local/lib/python3.8/site-packages (from pytz-deprecation-shim->tzlocal>=1.2->APScheduler==3.6.3->programy) (2021.5)\n",
      "Note: you may need to restart the kernel to use updated packages.\n"
     ]
    }
   ],
   "source": [
    "%pip install programy"
   ]
  },
  {
   "cell_type": "markdown",
   "id": "b1ddb693",
   "metadata": {},
   "source": [
    "Utilizaremos EmbeddedDataFileBot, un bot que permite cargar la base de conocimiento desde archivos AIML externos"
   ]
  },
  {
   "cell_type": "code",
   "execution_count": 7,
   "id": "d2cfc00b",
   "metadata": {},
   "outputs": [],
   "source": [
    "from programy.clients.embed.datafile import EmbeddedDataFileBot"
   ]
  },
  {
   "cell_type": "markdown",
   "id": "eb20e019",
   "metadata": {},
   "source": [
    "En el argumento 'files' del constructor se indica el nombre del directorio donde están los archivos con extensión .aiml que va a cargar"
   ]
  },
  {
   "cell_type": "code",
   "execution_count": 8,
   "id": "11efb8cb",
   "metadata": {},
   "outputs": [],
   "source": [
    "chatbot = EmbeddedDataFileBot(files={'aiml':['archivos_aiml']}, defaults=True)"
   ]
  },
  {
   "cell_type": "markdown",
   "id": "34081223",
   "metadata": {},
   "source": [
    "Generamos un bucle infinito que va imprimiendo las respuestas que devuelve nuestro bot a los mensajes que el usuario escriba por la entrada estándar"
   ]
  },
  {
   "cell_type": "code",
   "execution_count": 9,
   "id": "0af0fbfa",
   "metadata": {},
   "outputs": [
    {
     "name": "stdout",
     "output_type": "stream",
     "text": [
      "Hola! ¿Quieres que te recomiende planes para tus vacaciones?\n",
      "Cuál sera tu proximo destino?\n",
      "100\n"
     ]
    }
   ],
   "source": [
    "import requests\n",
    "\n",
    "# This function will pass your text to the machine learning model\n",
    "# and return the top result with the highest confidence\n",
    "def classify(text):\n",
    "    key = \"da588100-74a2-11ec-b559-81cf22e009279a5ab59c-4e94-4938-9556-5dee0c8e707c\"\n",
    "    url = \"https://machinelearningforkids.co.uk/api/scratch/\"+ key + \"/classify\"\n",
    "\n",
    "    response = requests.get(url, params={ \"data\" : text })\n",
    "\n",
    "    if response.ok:\n",
    "        responseData = response.json()\n",
    "        topMatch = responseData[0]\n",
    "        return topMatch\n",
    "    else:\n",
    "        response.raise_for_status()\n",
    "      \n",
    "        \n",
    "def answer_question():\n",
    "    question = input(\">>\")\n",
    "    answer = classify(question)\n",
    "    \n",
    "    answerclass = answer[\"class_name\"]\n",
    "    confidence = answer[\"confidence\"]\n",
    "\n",
    "    if confidence < 75:\n",
    "        print(\"No entiendo la pregunta. Pregúntame otra cosa!\")\n",
    "       \n",
    "    else:\n",
    "        print(chatbot.ask_question(answerclass))\n",
    "        print(confidence)\n",
    "\n",
    "print (\"Hola! ¿Quieres que te recomiende planes para tus vacaciones?\")    \n",
    "\n",
    "   \n",
    "while True:\n",
    "         \n",
    "    answer_question()\n"
   ]
  },
  {
   "cell_type": "code",
   "execution_count": null,
   "id": "f4659e94",
   "metadata": {},
   "outputs": [],
   "source": []
  },
  {
   "cell_type": "code",
   "execution_count": null,
   "id": "ca727783",
   "metadata": {},
   "outputs": [],
   "source": []
  }
 ],
 "metadata": {
  "kernelspec": {
   "display_name": "Python 3",
   "language": "python",
   "name": "python3"
  },
  "language_info": {
   "codemirror_mode": {
    "name": "ipython",
    "version": 3
   },
   "file_extension": ".py",
   "mimetype": "text/x-python",
   "name": "python",
   "nbconvert_exporter": "python",
   "pygments_lexer": "ipython3",
   "version": "3.8.10"
  }
 },
 "nbformat": 4,
 "nbformat_minor": 5
}
