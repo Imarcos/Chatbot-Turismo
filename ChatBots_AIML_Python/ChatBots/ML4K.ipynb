{
 "cells": [
  {
   "cell_type": "markdown",
   "id": "82fcba7c",
   "metadata": {},
   "source": [
    "# Ejecución de chatbot AIML desde Jupyter Notebook"
   ]
  },
  {
   "cell_type": "markdown",
   "id": "2e0c8f67",
   "metadata": {},
   "source": [
    "Se instala programy, que es una implementación completa del estándar AIML"
   ]
  },
  {
   "cell_type": "code",
   "execution_count": null,
   "id": "6073fa1e",
   "metadata": {
    "scrolled": true
   },
   "outputs": [],
   "source": [
    "%pip install programy"
   ]
  },
  {
   "cell_type": "markdown",
   "id": "a0816bb1",
   "metadata": {},
   "source": [
    "Utilizaremos EmbeddedDataFileBot, un bot que permite cargar la base de conocimiento desde archivos AIML externos"
   ]
  },
  {
   "cell_type": "code",
   "execution_count": 1,
   "id": "a10b4682",
   "metadata": {},
   "outputs": [],
   "source": [
    "from programy.clients.embed.datafile import EmbeddedDataFileBot"
   ]
  },
  {
   "cell_type": "markdown",
   "id": "52c3f5fc",
   "metadata": {},
   "source": [
    "En el argumento 'files' del constructor se indica el nombre del directorio donde están los archivos con extensión .aiml que va a cargar"
   ]
  },
  {
   "cell_type": "code",
   "execution_count": 2,
   "id": "52c2aebd",
   "metadata": {},
   "outputs": [],
   "source": [
    "chatbot = EmbeddedDataFileBot(files={'aiml':['archivos_aiml']}, defaults=True)"
   ]
  },
  {
   "cell_type": "markdown",
   "id": "c3770b2f",
   "metadata": {},
   "source": [
    "Generamos un bucle infinito que va imprimiendo las respuestas que devuelve nuestro bot a los mensajes que el usuario escriba por la entrada estándar"
   ]
  },
  {
   "cell_type": "code",
   "execution_count": 3,
   "id": "7d50150d",
   "metadata": {},
   "outputs": [
    {
     "name": "stdout",
     "output_type": "stream",
     "text": [
      "¿Quieres que recomiende planes originale para tus vacaciones?\n",
      "Cual será tu próximo destino?\n",
      "gastronomia, arte o otros\n",
      "Muy bien. Aqui tienes planes de gastromia\n",
      "Muy bien. Aqui tienes planes de arte y cultura\n",
      "No entiendo la pregunta. Pregúntame otra cosa!\n",
      "Muy bien. Aqui tienes planes que se salen de lo comun\n",
      "arqueologia\n",
      "museos y galerias\n",
      "Vale, pues que tengas un buen día.\n"
     ]
    },
    {
     "ename": "HTTPError",
     "evalue": "400 Client Error: Bad Request for url: https://machinelearningforkids.co.uk/api/scratch/da588100-74a2-11ec-b559-81cf22e009279a5ab59c-4e94-4938-9556-5dee0c8e707c/classify?data=",
     "output_type": "error",
     "traceback": [
      "\u001b[0;31m---------------------------------------------------------------------------\u001b[0m",
      "\u001b[0;31mHTTPError\u001b[0m                                 Traceback (most recent call last)",
      "Input \u001b[0;32mIn [3]\u001b[0m, in \u001b[0;36m<module>\u001b[0;34m\u001b[0m\n\u001b[1;32m     54\u001b[0m \u001b[38;5;28mprint\u001b[39m (\u001b[38;5;124m\"\u001b[39m\u001b[38;5;124m¿Quieres que recomiende planes originale para tus vacaciones?\u001b[39m\u001b[38;5;124m\"\u001b[39m)  \n\u001b[1;32m     56\u001b[0m \u001b[38;5;28;01mwhile\u001b[39;00m \u001b[38;5;28;01mTrue\u001b[39;00m:\n\u001b[0;32m---> 57\u001b[0m     \u001b[43manswer_question\u001b[49m\u001b[43m(\u001b[49m\u001b[43m)\u001b[49m\n",
      "Input \u001b[0;32mIn [3]\u001b[0m, in \u001b[0;36manswer_question\u001b[0;34m()\u001b[0m\n\u001b[1;32m     21\u001b[0m \u001b[38;5;28;01mdef\u001b[39;00m \u001b[38;5;21manswer_question\u001b[39m():\n\u001b[1;32m     22\u001b[0m     question \u001b[38;5;241m=\u001b[39m \u001b[38;5;28minput\u001b[39m(\u001b[38;5;124m\"\u001b[39m\u001b[38;5;124m>> \u001b[39m\u001b[38;5;124m\"\u001b[39m)\n\u001b[0;32m---> 23\u001b[0m     answer \u001b[38;5;241m=\u001b[39m \u001b[43mclassify\u001b[49m\u001b[43m(\u001b[49m\u001b[43mquestion\u001b[49m\u001b[43m)\u001b[49m\n\u001b[1;32m     25\u001b[0m     answerclass \u001b[38;5;241m=\u001b[39m answer[\u001b[38;5;124m\"\u001b[39m\u001b[38;5;124mclass_name\u001b[39m\u001b[38;5;124m\"\u001b[39m]\n\u001b[1;32m     26\u001b[0m     confidence \u001b[38;5;241m=\u001b[39m answer[\u001b[38;5;124m\"\u001b[39m\u001b[38;5;124mconfidence\u001b[39m\u001b[38;5;124m\"\u001b[39m]\n",
      "Input \u001b[0;32mIn [3]\u001b[0m, in \u001b[0;36mclassify\u001b[0;34m(text)\u001b[0m\n\u001b[1;32m     14\u001b[0m     \u001b[38;5;28;01mreturn\u001b[39;00m topMatch\n\u001b[1;32m     15\u001b[0m \u001b[38;5;28;01melse\u001b[39;00m:\n\u001b[0;32m---> 16\u001b[0m     \u001b[43mresponse\u001b[49m\u001b[38;5;241;43m.\u001b[39;49m\u001b[43mraise_for_status\u001b[49m\u001b[43m(\u001b[49m\u001b[43m)\u001b[49m\n",
      "File \u001b[0;32m/usr/lib/python3/dist-packages/requests/models.py:940\u001b[0m, in \u001b[0;36mResponse.raise_for_status\u001b[0;34m(self)\u001b[0m\n\u001b[1;32m    937\u001b[0m     http_error_msg \u001b[38;5;241m=\u001b[39m \u001b[38;5;124mu\u001b[39m\u001b[38;5;124m'\u001b[39m\u001b[38;5;132;01m%s\u001b[39;00m\u001b[38;5;124m Server Error: \u001b[39m\u001b[38;5;132;01m%s\u001b[39;00m\u001b[38;5;124m for url: \u001b[39m\u001b[38;5;132;01m%s\u001b[39;00m\u001b[38;5;124m'\u001b[39m \u001b[38;5;241m%\u001b[39m (\u001b[38;5;28mself\u001b[39m\u001b[38;5;241m.\u001b[39mstatus_code, reason, \u001b[38;5;28mself\u001b[39m\u001b[38;5;241m.\u001b[39murl)\n\u001b[1;32m    939\u001b[0m \u001b[38;5;28;01mif\u001b[39;00m http_error_msg:\n\u001b[0;32m--> 940\u001b[0m     \u001b[38;5;28;01mraise\u001b[39;00m HTTPError(http_error_msg, response\u001b[38;5;241m=\u001b[39m\u001b[38;5;28mself\u001b[39m)\n",
      "\u001b[0;31mHTTPError\u001b[0m: 400 Client Error: Bad Request for url: https://machinelearningforkids.co.uk/api/scratch/da588100-74a2-11ec-b559-81cf22e009279a5ab59c-4e94-4938-9556-5dee0c8e707c/classify?data="
     ]
    }
   ],
   "source": [
    "import requests\n",
    "\n",
    "# This function will pass your text to the machine learning model\n",
    "# and return the top result with the highest confidence\n",
    "def classify(text):\n",
    "    key = \"da588100-74a2-11ec-b559-81cf22e009279a5ab59c-4e94-4938-9556-5dee0c8e707c\"\n",
    "    url = \"https://machinelearningforkids.co.uk/api/scratch/\"+ key + \"/classify\"\n",
    "\n",
    "    response = requests.get(url, params={ \"data\" : text })\n",
    "\n",
    "    if response.ok:\n",
    "        responseData = response.json()\n",
    "        topMatch = responseData[0]\n",
    "        return topMatch\n",
    "    else:\n",
    "        response.raise_for_status()\n",
    "\n",
    "\n",
    "\n",
    "\n",
    "def answer_question():\n",
    "    question = input(\">> \")\n",
    "    answer = classify(question)\n",
    "    \n",
    "    answerclass = answer[\"class_name\"]\n",
    "    confidence = answer[\"confidence\"]\n",
    "\n",
    "    if confidence < 75:\n",
    "        print(\"No entiendo la pregunta. Pregúntame otra cosa!\")\n",
    "    if answerclass == \"Ciudad\":\n",
    "        print (\"gastronomia, arte o otros\")\n",
    "    elif answerclass == \"Gastronomia\":\n",
    "        print (\"Muy bien. Aqui tienes planes de gastromia\")\n",
    "    elif answerclass == \"Arte\":\n",
    "        print (\"Muy bien. Aqui tienes planes de arte y cultura\")\n",
    "    elif answerclass == \"Otros\":\n",
    "        print (\"Muy bien. Aqui tienes planes que se salen de lo comun\")\n",
    "    elif answerclass == \"Tipico\":\n",
    "        print(\"comida tradicional\")\n",
    "    elif answerclass == \"moderno\":\n",
    "        print (\"comida moderna\")   \n",
    "    elif answerclass == \"historia\":\n",
    "        print(\"arqueologia\")\n",
    "    elif answerclass == \"pintura\":\n",
    "        print(\"museos y galerias\")         \n",
    "    elif answerclass == \"si\":\n",
    "        print(\"Cual será tu próximo destino?\")\n",
    "    elif answerclass == \"no\":\n",
    "        print(\"Vale, pues que tengas un buen día.\")\n",
    "\n",
    "  \n",
    "\n",
    "\n",
    "print (\"¿Quieres que recomiende planes originale para tus vacaciones?\")  \n",
    "\n",
    "while True:\n",
    "    answer_question()\n",
    "\n",
    "\n"
   ]
  },
  {
   "cell_type": "code",
   "execution_count": null,
   "id": "1635ac47",
   "metadata": {},
   "outputs": [],
   "source": []
  },
  {
   "cell_type": "code",
   "execution_count": null,
   "id": "8f7848dc",
   "metadata": {},
   "outputs": [],
   "source": []
  }
 ],
 "metadata": {
  "kernelspec": {
   "display_name": "Python 3 (ipykernel)",
   "language": "python",
   "name": "python3"
  },
  "language_info": {
   "codemirror_mode": {
    "name": "ipython",
    "version": 3
   },
   "file_extension": ".py",
   "mimetype": "text/x-python",
   "name": "python",
   "nbconvert_exporter": "python",
   "pygments_lexer": "ipython3",
   "version": "3.8.10"
  }
 },
 "nbformat": 4,
 "nbformat_minor": 5
}
