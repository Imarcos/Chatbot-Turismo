{
 "cells": [
  {
   "cell_type": "markdown",
   "metadata": {},
   "source": [
    "# Ejecución de chatbot AIML desde Jupyter Notebook"
   ]
  },
  {
   "cell_type": "markdown",
   "metadata": {},
   "source": [
    "Se instala programy, que es una implementación completa del estándar AIML"
   ]
  },
  {
   "cell_type": "code",
   "execution_count": null,
   "metadata": {
    "scrolled": true
   },
   "outputs": [],
   "source": [
    "%pip install programy"
   ]
  },
  {
   "cell_type": "markdown",
   "metadata": {},
   "source": [
    "Utilizaremos EmbeddedDataFileBot, un bot que permite cargar la base de conocimiento desde archivos AIML externos"
   ]
  },
  {
   "cell_type": "code",
   "execution_count": 12,
   "metadata": {},
   "outputs": [],
   "source": [
    "from programy.clients.embed.datafile import EmbeddedDataFileBot"
   ]
  },
  {
   "cell_type": "markdown",
   "metadata": {},
   "source": [
    "En el argumento 'files' del constructor se indica el nombre del directorio donde están los archivos con extensión .aiml que va a cargar"
   ]
  },
  {
   "cell_type": "code",
   "execution_count": 13,
   "metadata": {},
   "outputs": [],
   "source": [
    "chatbot = EmbeddedDataFileBot(files={'aiml':['archivos_aiml']}, defaults=True)"
   ]
  },
  {
   "cell_type": "markdown",
   "metadata": {},
   "source": [
    "Generamos un bucle infinito que va imprimiendo las respuestas que devuelve nuestro bot a los mensajes que el usuario escriba por la entrada estándar"
   ]
  },
  {
   "cell_type": "code",
   "execution_count": null,
   "metadata": {},
   "outputs": [
    {
     "name": "stdout",
     "output_type": "stream",
     "text": [
      "¿Quieres que recomiende planes originale para tus vacaciones?\n",
      ">> si\n",
      "Cual será tu próximo destino?\n",
      ">> roma\n",
      "Muy bien que quieres hacer en Roma\n",
      ">> ver museos\n",
      "Muy bien. Aqui tienes planes de arte y cultura\n"
     ]
    }
   ],
   "source": [
    "import requests\n",
    "\n",
    "# This function will pass your text to the machine learning model\n",
    "# and return the top result with the highest confidence\n",
    "def classify(text):\n",
    "    key = \"da588100-74a2-11ec-b559-81cf22e009279a5ab59c-4e94-4938-9556-5dee0c8e707c\"\n",
    "    url = \"https://machinelearningforkids.co.uk/api/scratch/\"+ key + \"/classify\"\n",
    "\n",
    "    response = requests.get(url, params={ \"data\" : text })\n",
    "\n",
    "    if response.ok:\n",
    "        responseData = response.json()\n",
    "        topMatch = responseData[0]\n",
    "        return topMatch\n",
    "    else:\n",
    "        response.raise_for_status()\n",
    "\n",
    "\n",
    "\n",
    "\n",
    "def answer_question():\n",
    "    question = input(\">> \")\n",
    "    answer = classify(question)\n",
    "    \n",
    "    answerclass = answer[\"class_name\"]\n",
    "    confidence = answer[\"confidence\"]\n",
    "\n",
    "    if confidence < 75:\n",
    "        print(\"No entiendo la pregunta. Pregúntame otra cosa!\")\n",
    "    if answerclass == \"Ciudad\":\n",
    "        print (\"Muy bien que quieres hacer en Roma\")\n",
    "    elif answerclass == \"Gastronomia\":\n",
    "        print (\"Muy bien. Aqui tienes planes de gastromia\")\n",
    "    elif answerclass == \"Arte\":\n",
    "        print (\"Muy bien. Aqui tienes planes de arte y cultura\")\n",
    "    elif answerclass == \"Otros\":\n",
    "        print (\"Muy bien. Aqui tienes planes que se salen de lo comun\")\n",
    "    elif answerclass == \"si\":\n",
    "        print(\"Cual será tu próximo destino?\")\n",
    "    elif answerclass == \"no\":\n",
    "        print(\"Vale, pues que tengas un buen día.\")\n",
    "\n",
    "  \n",
    "\n",
    "\n",
    "print (\"¿Quieres que recomiende planes originale para tus vacaciones?\")  \n",
    "\n",
    "while True:\n",
    "    answer_question()\n",
    "\n",
    "\n"
   ]
  },
  {
   "cell_type": "code",
   "execution_count": null,
   "metadata": {},
   "outputs": [],
   "source": []
  },
  {
   "cell_type": "code",
   "execution_count": null,
   "metadata": {},
   "outputs": [],
   "source": []
  }
 ],
 "metadata": {
  "kernelspec": {
   "display_name": "Python 3",
   "language": "python",
   "name": "python3"
  },
  "language_info": {
   "codemirror_mode": {
    "name": "ipython",
    "version": 3
   },
   "file_extension": ".py",
   "mimetype": "text/x-python",
   "name": "python",
   "nbconvert_exporter": "python",
   "pygments_lexer": "ipython3",
   "version": "3.8.10"
  }
 },
 "nbformat": 4,
 "nbformat_minor": 5
}
